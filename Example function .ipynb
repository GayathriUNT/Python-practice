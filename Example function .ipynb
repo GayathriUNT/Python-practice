{
 "cells": [
  {
   "cell_type": "code",
   "execution_count": 5,
   "metadata": {},
   "outputs": [
    {
     "data": {
      "text/plain": [
       "3077948044805095148"
      ]
     },
     "execution_count": 5,
     "metadata": {},
     "output_type": "execute_result"
    }
   ],
   "source": [
    "hash('python')"
   ]
  },
  {
   "cell_type": "code",
   "execution_count": 19,
   "metadata": {},
   "outputs": [
    {
     "data": {
      "text/plain": [
       "-790657062868055460"
      ]
     },
     "execution_count": 19,
     "metadata": {},
     "output_type": "execute_result"
    }
   ],
   "source": [
    "hash('java')"
   ]
  },
  {
   "cell_type": "code",
   "execution_count": 20,
   "metadata": {},
   "outputs": [
    {
     "data": {
      "text/plain": [
       "2535982349316972620"
      ]
     },
     "execution_count": 20,
     "metadata": {},
     "output_type": "execute_result"
    }
   ],
   "source": [
    "st = 'This is Python'\n",
    "hash(st)"
   ]
  },
  {
   "cell_type": "markdown",
   "metadata": {},
   "source": [
    "### 1. Create a vector (1D array) of size 20. All the elements are initialized with 0 (zero) except for the 8th  element that is set with the value 8. "
   ]
  },
  {
   "cell_type": "code",
   "execution_count": 23,
   "metadata": {},
   "outputs": [
    {
     "name": "stdout",
     "output_type": "stream",
     "text": [
      "[0, 0, 0, 0, 0, 0, 0, 8, 0, 0, 0, 0, 0, 0, 0, 0, 0, 0, 0, 0]\n"
     ]
    }
   ],
   "source": [
    "myarray = list(range(1,21))\n",
    "\n",
    "for i in range(0,20):\n",
    "    myarray[i] = 0\n",
    "    myarray[7] = 8\n",
    "print(myarray)\n",
    "    \n",
    "    \n",
    "\n",
    "\n"
   ]
  },
  {
   "cell_type": "markdown",
   "metadata": {},
   "source": [
    "### 2. Create a vector of size 16 with random values ranging from 0 to 63, print the vector, then sort it and print the  vector again. "
   ]
  },
  {
   "cell_type": "code",
   "execution_count": 24,
   "metadata": {},
   "outputs": [
    {
     "name": "stdout",
     "output_type": "stream",
     "text": [
      "[1, 47, 14, 29, 19, 54, 13, 12, 58, 31, 38, 46, 2, 55, 24, 7]\n",
      "[1, 2, 7, 12, 13, 14, 19, 24, 29, 31, 38, 46, 47, 54, 55, 58]\n"
     ]
    }
   ],
   "source": [
    "import random\n",
    "\n",
    "mylist = random.sample(range(1,60), 16)\n",
    "print(mylist)\n",
    "mylist.sort()\n",
    "print(mylist)\n"
   ]
  },
  {
   "cell_type": "markdown",
   "metadata": {},
   "source": [
    "### 3. Create a 5x5 matrix with values ranging from 0 to 24. "
   ]
  },
  {
   "cell_type": "code",
   "execution_count": null,
   "metadata": {},
   "outputs": [],
   "source": [
    "import random\n",
    "import numpy as np\n",
    "mymatrix = np.random.randint(0,24, size=(5,5))\n",
    "print(mymatrix)\n"
   ]
  },
  {
   "cell_type": "markdown",
   "metadata": {},
   "source": [
    "### 4. Create an 8x8 array with random values, then find the min and max values stored in this matrix. "
   ]
  },
  {
   "cell_type": "code",
   "execution_count": null,
   "metadata": {},
   "outputs": [],
   "source": [
    "import random\n",
    "import numpy as np\n",
    "mymatrix = np.random.randint(100,size=(8,8))\n",
    "print(mymatrix)\n",
    "\n",
    "print('Maximum = ',  mymatrix.max() )\n",
    "\n",
    "print('Maximum = ',  mymatrix.min() )"
   ]
  },
  {
   "cell_type": "markdown",
   "metadata": {},
   "source": [
    "#### 5.Create a vector of size 32 that is initialized with random values inside the range (0, 99) and then find the mean of all the initial values. "
   ]
  },
  {
   "cell_type": "code",
   "execution_count": null,
   "metadata": {},
   "outputs": [],
   "source": [
    "import random\n",
    "x = 0\n",
    "mylist = random.sample(range(0,99), 32)\n",
    "print(mylist)\n",
    "\n",
    "for i in range(0,32):\n",
    "    x = x + mylist[i]\n",
    "meanvalue = x/32\n",
    "print('Mean of the initial vaues = ', meanvalue)\n"
   ]
  },
  {
   "cell_type": "code",
   "execution_count": 48,
   "metadata": {},
   "outputs": [
    {
     "name": "stdout",
     "output_type": "stream",
     "text": [
      "a    1\n",
      "b    6\n",
      "c    7\n",
      "dtype: int64\n"
     ]
    },
    {
     "data": {
      "text/plain": [
       "e    0\n",
       "d    0\n",
       "c    7\n",
       "b    6\n",
       "a    1\n",
       "dtype: int64"
      ]
     },
     "execution_count": 48,
     "metadata": {},
     "output_type": "execute_result"
    }
   ],
   "source": [
    "from pandas import Series, DataFrame\n",
    "import pandas as pd\n",
    "obj = Series([1,6,7], index = ['a','b','c'])\n",
    "print(obj)\n",
    "obj2=obj.reindex(['e','d','c','b','a'],fill_value=0)\n",
    "obj2"
   ]
  },
  {
   "cell_type": "code",
   "execution_count": 134,
   "metadata": {},
   "outputs": [
    {
     "data": {
      "text/plain": [
       "aa    False\n",
       "cc    False\n",
       "dtype: bool"
      ]
     },
     "execution_count": 134,
     "metadata": {},
     "output_type": "execute_result"
    }
   ],
   "source": [
    "sdict = {'a':1, 'b':2, 'c':3}\n",
    "obj1 = Series(sdict)\n",
    "ind1 = ['aa','cc']\n",
    "obj2= pd.Series(sdict, index=ind1)\n",
    "obj2\n",
    "pd.notnull(obj2)\n",
    "obj2.notnull()\n"
   ]
  },
  {
   "cell_type": "code",
   "execution_count": 10,
   "metadata": {},
   "outputs": [
    {
     "data": {
      "text/html": [
       "<div>\n",
       "<style scoped>\n",
       "    .dataframe tbody tr th:only-of-type {\n",
       "        vertical-align: middle;\n",
       "    }\n",
       "\n",
       "    .dataframe tbody tr th {\n",
       "        vertical-align: top;\n",
       "    }\n",
       "\n",
       "    .dataframe thead th {\n",
       "        text-align: right;\n",
       "    }\n",
       "</style>\n",
       "<table border=\"1\" class=\"dataframe\">\n",
       "  <thead>\n",
       "    <tr style=\"text-align: right;\">\n",
       "      <th></th>\n",
       "      <th>name</th>\n",
       "      <th>Age</th>\n",
       "      <th>Grade</th>\n",
       "    </tr>\n",
       "  </thead>\n",
       "  <tbody>\n",
       "    <tr>\n",
       "      <th>0</th>\n",
       "      <td>aa</td>\n",
       "      <td>10</td>\n",
       "      <td>4</td>\n",
       "    </tr>\n",
       "    <tr>\n",
       "      <th>1</th>\n",
       "      <td>bb</td>\n",
       "      <td>14</td>\n",
       "      <td>9</td>\n",
       "    </tr>\n",
       "    <tr>\n",
       "      <th>2</th>\n",
       "      <td>cc</td>\n",
       "      <td>17</td>\n",
       "      <td>7</td>\n",
       "    </tr>\n",
       "  </tbody>\n",
       "</table>\n",
       "</div>"
      ],
      "text/plain": [
       "  name  Age  Grade\n",
       "0   aa   10      4\n",
       "1   bb   14      9\n",
       "2   cc   17      7"
      ]
     },
     "execution_count": 10,
     "metadata": {},
     "output_type": "execute_result"
    }
   ],
   "source": [
    "\n",
    "data = {'name':['aa','bb','cc'], 'Age':[10,14,17], 'Grade':[4,9,7]}\n",
    "frame =  DataFrame(data)\n",
    "frame"
   ]
  },
  {
   "cell_type": "code",
   "execution_count": 41,
   "metadata": {},
   "outputs": [
    {
     "name": "stdout",
     "output_type": "stream",
     "text": [
      "   name  Age  Grade\n",
      "1.   aa   10      4\n",
      "2.   bb   14      9\n",
      "3.   cc   17      7\n"
     ]
    },
    {
     "data": {
      "text/html": [
       "<div>\n",
       "<style scoped>\n",
       "    .dataframe tbody tr th:only-of-type {\n",
       "        vertical-align: middle;\n",
       "    }\n",
       "\n",
       "    .dataframe tbody tr th {\n",
       "        vertical-align: top;\n",
       "    }\n",
       "\n",
       "    .dataframe thead th {\n",
       "        text-align: right;\n",
       "    }\n",
       "</style>\n",
       "<table border=\"1\" class=\"dataframe\">\n",
       "  <thead>\n",
       "    <tr style=\"text-align: right;\">\n",
       "      <th></th>\n",
       "      <th>name</th>\n",
       "      <th>Age</th>\n",
       "      <th>Grade</th>\n",
       "    </tr>\n",
       "  </thead>\n",
       "  <tbody>\n",
       "    <tr>\n",
       "      <th>1</th>\n",
       "      <td>NaN</td>\n",
       "      <td>NaN</td>\n",
       "      <td>NaN</td>\n",
       "    </tr>\n",
       "    <tr>\n",
       "      <th>2</th>\n",
       "      <td>NaN</td>\n",
       "      <td>NaN</td>\n",
       "      <td>NaN</td>\n",
       "    </tr>\n",
       "    <tr>\n",
       "      <th>3</th>\n",
       "      <td>NaN</td>\n",
       "      <td>NaN</td>\n",
       "      <td>NaN</td>\n",
       "    </tr>\n",
       "  </tbody>\n",
       "</table>\n",
       "</div>"
      ],
      "text/plain": [
       "  name  Age  Grade\n",
       "1  NaN  NaN    NaN\n",
       "2  NaN  NaN    NaN\n",
       "3  NaN  NaN    NaN"
      ]
     },
     "execution_count": 41,
     "metadata": {},
     "output_type": "execute_result"
    }
   ],
   "source": [
    "frame2 = DataFrame(data, index=['1.','2.','3.'])\n",
    "print(frame2)   \n",
    "fm2= frame2.reindex([1,2,3])\n",
    "fm2"
   ]
  },
  {
   "cell_type": "code",
   "execution_count": 26,
   "metadata": {},
   "outputs": [
    {
     "data": {
      "text/html": [
       "<div>\n",
       "<style scoped>\n",
       "    .dataframe tbody tr th:only-of-type {\n",
       "        vertical-align: middle;\n",
       "    }\n",
       "\n",
       "    .dataframe tbody tr th {\n",
       "        vertical-align: top;\n",
       "    }\n",
       "\n",
       "    .dataframe thead th {\n",
       "        text-align: right;\n",
       "    }\n",
       "</style>\n",
       "<table border=\"1\" class=\"dataframe\">\n",
       "  <thead>\n",
       "    <tr style=\"text-align: right;\">\n",
       "      <th></th>\n",
       "      <th>A</th>\n",
       "      <th>B</th>\n",
       "      <th>C</th>\n",
       "      <th>D</th>\n",
       "    </tr>\n",
       "  </thead>\n",
       "  <tbody>\n",
       "    <tr>\n",
       "      <th>1.</th>\n",
       "      <td>NaN</td>\n",
       "      <td>NaN</td>\n",
       "      <td>NaN</td>\n",
       "      <td>1</td>\n",
       "    </tr>\n",
       "    <tr>\n",
       "      <th>2.</th>\n",
       "      <td>NaN</td>\n",
       "      <td>NaN</td>\n",
       "      <td>NaN</td>\n",
       "      <td>1</td>\n",
       "    </tr>\n",
       "    <tr>\n",
       "      <th>3.</th>\n",
       "      <td>NaN</td>\n",
       "      <td>NaN</td>\n",
       "      <td>NaN</td>\n",
       "      <td>1</td>\n",
       "    </tr>\n",
       "  </tbody>\n",
       "</table>\n",
       "</div>"
      ],
      "text/plain": [
       "      A    B    C  D\n",
       "1.  NaN  NaN  NaN  1\n",
       "2.  NaN  NaN  NaN  1\n",
       "3.  NaN  NaN  NaN  1"
      ]
     },
     "execution_count": 26,
     "metadata": {},
     "output_type": "execute_result"
    }
   ],
   "source": [
    "frame2['D'] = [1,1,1]\n",
    "frame2"
   ]
  },
  {
   "cell_type": "code",
   "execution_count": 29,
   "metadata": {},
   "outputs": [
    {
     "data": {
      "text/plain": [
       "Index(['name', 'Age', 'Grade'], dtype='object')"
      ]
     },
     "execution_count": 29,
     "metadata": {},
     "output_type": "execute_result"
    }
   ],
   "source": [
    "frame2.columns\n"
   ]
  },
  {
   "cell_type": "code",
   "execution_count": 72,
   "metadata": {},
   "outputs": [
    {
     "data": {
      "text/html": [
       "<div>\n",
       "<style scoped>\n",
       "    .dataframe tbody tr th:only-of-type {\n",
       "        vertical-align: middle;\n",
       "    }\n",
       "\n",
       "    .dataframe tbody tr th {\n",
       "        vertical-align: top;\n",
       "    }\n",
       "\n",
       "    .dataframe thead th {\n",
       "        text-align: right;\n",
       "    }\n",
       "</style>\n",
       "<table border=\"1\" class=\"dataframe\">\n",
       "  <thead>\n",
       "    <tr style=\"text-align: right;\">\n",
       "      <th></th>\n",
       "      <th>Ohio</th>\n",
       "      <th>Texas</th>\n",
       "      <th>California</th>\n",
       "    </tr>\n",
       "  </thead>\n",
       "  <tbody>\n",
       "    <tr>\n",
       "      <th>a</th>\n",
       "      <td>0.0</td>\n",
       "      <td>1.0</td>\n",
       "      <td>2.0</td>\n",
       "    </tr>\n",
       "    <tr>\n",
       "      <th>b</th>\n",
       "      <td>NaN</td>\n",
       "      <td>NaN</td>\n",
       "      <td>NaN</td>\n",
       "    </tr>\n",
       "    <tr>\n",
       "      <th>c</th>\n",
       "      <td>3.0</td>\n",
       "      <td>4.0</td>\n",
       "      <td>5.0</td>\n",
       "    </tr>\n",
       "    <tr>\n",
       "      <th>d</th>\n",
       "      <td>6.0</td>\n",
       "      <td>7.0</td>\n",
       "      <td>8.0</td>\n",
       "    </tr>\n",
       "  </tbody>\n",
       "</table>\n",
       "</div>"
      ],
      "text/plain": [
       "   Ohio  Texas  California\n",
       "a   0.0    1.0         2.0\n",
       "b   NaN    NaN         NaN\n",
       "c   3.0    4.0         5.0\n",
       "d   6.0    7.0         8.0"
      ]
     },
     "execution_count": 72,
     "metadata": {},
     "output_type": "execute_result"
    }
   ],
   "source": [
    " frame2 = frame.reindex(['a', 'b', 'c', 'd'])\n",
    "frame2\n"
   ]
  },
  {
   "cell_type": "markdown",
   "metadata": {},
   "source": [
    "## Creating Data Frame in Panada"
   ]
  },
  {
   "cell_type": "code",
   "execution_count": 128,
   "metadata": {},
   "outputs": [
    {
     "data": {
      "text/html": [
       "<div>\n",
       "<style scoped>\n",
       "    .dataframe tbody tr th:only-of-type {\n",
       "        vertical-align: middle;\n",
       "    }\n",
       "\n",
       "    .dataframe tbody tr th {\n",
       "        vertical-align: top;\n",
       "    }\n",
       "\n",
       "    .dataframe thead th {\n",
       "        text-align: right;\n",
       "    }\n",
       "</style>\n",
       "<table border=\"1\" class=\"dataframe\">\n",
       "  <thead>\n",
       "    <tr style=\"text-align: right;\">\n",
       "      <th></th>\n",
       "      <th>aaa</th>\n",
       "      <th>bbb</th>\n",
       "      <th>ccc</th>\n",
       "      <th>ddd</th>\n",
       "    </tr>\n",
       "  </thead>\n",
       "  <tbody>\n",
       "    <tr>\n",
       "      <th>a</th>\n",
       "      <td>0</td>\n",
       "      <td>1</td>\n",
       "      <td>2</td>\n",
       "      <td>3</td>\n",
       "    </tr>\n",
       "    <tr>\n",
       "      <th>b</th>\n",
       "      <td>4</td>\n",
       "      <td>5</td>\n",
       "      <td>6</td>\n",
       "      <td>7</td>\n",
       "    </tr>\n",
       "    <tr>\n",
       "      <th>c</th>\n",
       "      <td>8</td>\n",
       "      <td>9</td>\n",
       "      <td>10</td>\n",
       "      <td>11</td>\n",
       "    </tr>\n",
       "    <tr>\n",
       "      <th>d</th>\n",
       "      <td>12</td>\n",
       "      <td>13</td>\n",
       "      <td>14</td>\n",
       "      <td>15</td>\n",
       "    </tr>\n",
       "  </tbody>\n",
       "</table>\n",
       "</div>"
      ],
      "text/plain": [
       "   aaa  bbb  ccc  ddd\n",
       "a    0    1    2    3\n",
       "b    4    5    6    7\n",
       "c    8    9   10   11\n",
       "d   12   13   14   15"
      ]
     },
     "execution_count": 128,
     "metadata": {},
     "output_type": "execute_result"
    }
   ],
   "source": [
    "import numpy as np\n",
    "\n",
    "newframe = pd.DataFrame(np.arange(16).reshape(4,4), columns=['aaa','bbb','ccc','ddd'], index = ['a','b','c','d'])\n",
    "newframe"
   ]
  },
  {
   "cell_type": "code",
   "execution_count": 139,
   "metadata": {},
   "outputs": [
    {
     "name": "stdout",
     "output_type": "stream",
     "text": [
      "[[ 0  1  2  3]\n",
      " [ 4  5  6  7]\n",
      " [ 8  9 10 11]\n",
      " [12 13 14 15]]\n",
      "             A   B   C   D\n",
      "2019-01-01   0   1   2   3\n",
      "2019-01-02   4   5   6   7\n",
      "2019-01-03   8   9  10  11\n",
      "2019-01-04  12  13  14  15\n",
      "     a    b    c\n",
      "1  NaN  NaN  NaN\n",
      "2  NaN  NaN  NaN\n",
      "3  NaN  NaN  NaN\n"
     ]
    }
   ],
   "source": [
    "# Create an Array 0f 4 X 4\n",
    "sample_data = np.arange(16).reshape(4,4)\n",
    "print(sample_data)\n",
    "\n",
    "my_date = pd.date_range('20190101', periods=4)\n",
    "\n",
    "df1 = pd.DataFrame(sample_data, index=my_date, columns= list('ABCD'))\n",
    "print(df1)\n",
    "\n",
    "#Create Dictionary\n",
    "\n",
    "dic= {'float': 1.0,\n",
    "    'time': pd.Timestamp('20190101'),\n",
    "    'series': pd.Series(np.arange(1,3))}\n",
    "df2 = pd.DataFrame(dic,columns=['a','b','c'], index=['1','2','3'])\n",
    "print(df2)"
   ]
  },
  {
   "cell_type": "code",
   "execution_count": 76,
   "metadata": {},
   "outputs": [
    {
     "data": {
      "text/plain": [
       "a     0\n",
       "b     4\n",
       "c     8\n",
       "d    12\n",
       "Name: aaa, dtype: int32"
      ]
     },
     "execution_count": 76,
     "metadata": {},
     "output_type": "execute_result"
    }
   ],
   "source": [
    "newframe['aaa']\n"
   ]
  },
  {
   "cell_type": "code",
   "execution_count": 84,
   "metadata": {},
   "outputs": [
    {
     "data": {
      "text/html": [
       "<div>\n",
       "<style scoped>\n",
       "    .dataframe tbody tr th:only-of-type {\n",
       "        vertical-align: middle;\n",
       "    }\n",
       "\n",
       "    .dataframe tbody tr th {\n",
       "        vertical-align: top;\n",
       "    }\n",
       "\n",
       "    .dataframe thead th {\n",
       "        text-align: right;\n",
       "    }\n",
       "</style>\n",
       "<table border=\"1\" class=\"dataframe\">\n",
       "  <thead>\n",
       "    <tr style=\"text-align: right;\">\n",
       "      <th></th>\n",
       "      <th>aaa</th>\n",
       "      <th>bbb</th>\n",
       "      <th>ccc</th>\n",
       "      <th>ddd</th>\n",
       "    </tr>\n",
       "  </thead>\n",
       "  <tbody>\n",
       "    <tr>\n",
       "      <th>c</th>\n",
       "      <td>8</td>\n",
       "      <td>9</td>\n",
       "      <td>10</td>\n",
       "      <td>11</td>\n",
       "    </tr>\n",
       "    <tr>\n",
       "      <th>d</th>\n",
       "      <td>12</td>\n",
       "      <td>13</td>\n",
       "      <td>14</td>\n",
       "      <td>15</td>\n",
       "    </tr>\n",
       "  </tbody>\n",
       "</table>\n",
       "</div>"
      ],
      "text/plain": [
       "   aaa  bbb  ccc  ddd\n",
       "c    8    9   10   11\n",
       "d   12   13   14   15"
      ]
     },
     "execution_count": 84,
     "metadata": {},
     "output_type": "execute_result"
    }
   ],
   "source": [
    "newframe[2:4]"
   ]
  },
  {
   "cell_type": "code",
   "execution_count": 86,
   "metadata": {},
   "outputs": [
    {
     "data": {
      "text/html": [
       "<div>\n",
       "<style scoped>\n",
       "    .dataframe tbody tr th:only-of-type {\n",
       "        vertical-align: middle;\n",
       "    }\n",
       "\n",
       "    .dataframe tbody tr th {\n",
       "        vertical-align: top;\n",
       "    }\n",
       "\n",
       "    .dataframe thead th {\n",
       "        text-align: right;\n",
       "    }\n",
       "</style>\n",
       "<table border=\"1\" class=\"dataframe\">\n",
       "  <thead>\n",
       "    <tr style=\"text-align: right;\">\n",
       "      <th></th>\n",
       "      <th>aaa</th>\n",
       "      <th>bbb</th>\n",
       "      <th>ccc</th>\n",
       "      <th>ddd</th>\n",
       "    </tr>\n",
       "  </thead>\n",
       "  <tbody>\n",
       "    <tr>\n",
       "      <th>b</th>\n",
       "      <td>4</td>\n",
       "      <td>5</td>\n",
       "      <td>6</td>\n",
       "      <td>7</td>\n",
       "    </tr>\n",
       "    <tr>\n",
       "      <th>c</th>\n",
       "      <td>8</td>\n",
       "      <td>9</td>\n",
       "      <td>10</td>\n",
       "      <td>11</td>\n",
       "    </tr>\n",
       "    <tr>\n",
       "      <th>d</th>\n",
       "      <td>12</td>\n",
       "      <td>13</td>\n",
       "      <td>14</td>\n",
       "      <td>15</td>\n",
       "    </tr>\n",
       "  </tbody>\n",
       "</table>\n",
       "</div>"
      ],
      "text/plain": [
       "   aaa  bbb  ccc  ddd\n",
       "b    4    5    6    7\n",
       "c    8    9   10   11\n",
       "d   12   13   14   15"
      ]
     },
     "execution_count": 86,
     "metadata": {},
     "output_type": "execute_result"
    }
   ],
   "source": [
    "newframe.drop('a')"
   ]
  },
  {
   "cell_type": "code",
   "execution_count": 87,
   "metadata": {},
   "outputs": [
    {
     "data": {
      "text/html": [
       "<div>\n",
       "<style scoped>\n",
       "    .dataframe tbody tr th:only-of-type {\n",
       "        vertical-align: middle;\n",
       "    }\n",
       "\n",
       "    .dataframe tbody tr th {\n",
       "        vertical-align: top;\n",
       "    }\n",
       "\n",
       "    .dataframe thead th {\n",
       "        text-align: right;\n",
       "    }\n",
       "</style>\n",
       "<table border=\"1\" class=\"dataframe\">\n",
       "  <thead>\n",
       "    <tr style=\"text-align: right;\">\n",
       "      <th></th>\n",
       "      <th>aaa</th>\n",
       "      <th>bbb</th>\n",
       "      <th>ccc</th>\n",
       "      <th>ddd</th>\n",
       "    </tr>\n",
       "  </thead>\n",
       "  <tbody>\n",
       "    <tr>\n",
       "      <th>a</th>\n",
       "      <td>0</td>\n",
       "      <td>1</td>\n",
       "      <td>2</td>\n",
       "      <td>3</td>\n",
       "    </tr>\n",
       "    <tr>\n",
       "      <th>b</th>\n",
       "      <td>4</td>\n",
       "      <td>5</td>\n",
       "      <td>6</td>\n",
       "      <td>7</td>\n",
       "    </tr>\n",
       "    <tr>\n",
       "      <th>c</th>\n",
       "      <td>8</td>\n",
       "      <td>9</td>\n",
       "      <td>10</td>\n",
       "      <td>11</td>\n",
       "    </tr>\n",
       "    <tr>\n",
       "      <th>d</th>\n",
       "      <td>12</td>\n",
       "      <td>13</td>\n",
       "      <td>14</td>\n",
       "      <td>15</td>\n",
       "    </tr>\n",
       "  </tbody>\n",
       "</table>\n",
       "</div>"
      ],
      "text/plain": [
       "   aaa  bbb  ccc  ddd\n",
       "a    0    1    2    3\n",
       "b    4    5    6    7\n",
       "c    8    9   10   11\n",
       "d   12   13   14   15"
      ]
     },
     "execution_count": 87,
     "metadata": {},
     "output_type": "execute_result"
    }
   ],
   "source": [
    "newframe"
   ]
  },
  {
   "cell_type": "code",
   "execution_count": 92,
   "metadata": {},
   "outputs": [
    {
     "data": {
      "text/html": [
       "<div>\n",
       "<style scoped>\n",
       "    .dataframe tbody tr th:only-of-type {\n",
       "        vertical-align: middle;\n",
       "    }\n",
       "\n",
       "    .dataframe tbody tr th {\n",
       "        vertical-align: top;\n",
       "    }\n",
       "\n",
       "    .dataframe thead th {\n",
       "        text-align: right;\n",
       "    }\n",
       "</style>\n",
       "<table border=\"1\" class=\"dataframe\">\n",
       "  <thead>\n",
       "    <tr style=\"text-align: right;\">\n",
       "      <th></th>\n",
       "      <th>aaa</th>\n",
       "      <th>bbb</th>\n",
       "      <th>ccc</th>\n",
       "      <th>ddd</th>\n",
       "      <th>c</th>\n",
       "    </tr>\n",
       "  </thead>\n",
       "  <tbody>\n",
       "    <tr>\n",
       "      <th>a</th>\n",
       "      <td>True</td>\n",
       "      <td>True</td>\n",
       "      <td>True</td>\n",
       "      <td>True</td>\n",
       "      <td>True</td>\n",
       "    </tr>\n",
       "    <tr>\n",
       "      <th>b</th>\n",
       "      <td>True</td>\n",
       "      <td>True</td>\n",
       "      <td>True</td>\n",
       "      <td>False</td>\n",
       "      <td>True</td>\n",
       "    </tr>\n",
       "    <tr>\n",
       "      <th>c</th>\n",
       "      <td>False</td>\n",
       "      <td>False</td>\n",
       "      <td>False</td>\n",
       "      <td>False</td>\n",
       "      <td>True</td>\n",
       "    </tr>\n",
       "    <tr>\n",
       "      <th>d</th>\n",
       "      <td>False</td>\n",
       "      <td>False</td>\n",
       "      <td>False</td>\n",
       "      <td>False</td>\n",
       "      <td>True</td>\n",
       "    </tr>\n",
       "  </tbody>\n",
       "</table>\n",
       "</div>"
      ],
      "text/plain": [
       "     aaa    bbb    ccc    ddd     c\n",
       "a   True   True   True   True  True\n",
       "b   True   True   True  False  True\n",
       "c  False  False  False  False  True\n",
       "d  False  False  False  False  True"
      ]
     },
     "execution_count": 92,
     "metadata": {},
     "output_type": "execute_result"
    }
   ],
   "source": [
    "newframe<7"
   ]
  },
  {
   "cell_type": "code",
   "execution_count": 125,
   "metadata": {},
   "outputs": [
    {
     "name": "stdout",
     "output_type": "stream",
     "text": [
      "3\n",
      "3\n"
     ]
    }
   ],
   "source": [
    "# loc -- returns with row and column lables\n",
    "print(newframe.loc['a','ddd'])\n",
    "\n",
    "#iloc -- returns with row and column numbers\n",
    "print(newframe.iloc[0,3])"
   ]
  },
  {
   "cell_type": "markdown",
   "metadata": {},
   "source": [
    "- List\n",
    "  - Python\n",
    "  - SQL"
   ]
  },
  {
   "cell_type": "code",
   "execution_count": 127,
   "metadata": {},
   "outputs": [
    {
     "data": {
      "text/plain": [
       "DatetimeIndex(['2019-01-01', '2019-01-02', '2019-01-03', '2019-01-04',\n",
       "               '2019-01-05'],\n",
       "              dtype='datetime64[ns]', freq='D')"
      ]
     },
     "execution_count": 127,
     "metadata": {},
     "output_type": "execute_result"
    }
   ],
   "source": [
    "my_date = pd.date_range('20190101', periods=5)\n",
    "my_date"
   ]
  },
  {
   "cell_type": "markdown",
   "metadata": {},
   "source": [
    "## Install SQL for Python\n",
    "### Run this command at the anaconda prompt\n",
    "### This is the command -- pip install python-sql"
   ]
  },
  {
   "cell_type": "code",
   "execution_count": 3,
   "metadata": {},
   "outputs": [],
   "source": [
    "  \n",
    "from sql import *\n",
    "from sql.aggregate import *\n",
    "from sql.conditionals import *"
   ]
  },
  {
   "cell_type": "code",
   "execution_count": 11,
   "metadata": {},
   "outputs": [
    {
     "name": "stdout",
     "output_type": "stream",
     "text": [
      "SELECT * FROM \"user\" AS \"a\"\n"
     ]
    }
   ],
   "source": [
    "user1 = Table('user1')\n",
    "select = user.select()\n",
    "print(select)\n"
   ]
  },
  {
   "cell_type": "code",
   "execution_count": 8,
   "metadata": {},
   "outputs": [
    {
     "data": {
      "text/plain": [
       "('SELECT \"a\".\"name\" FROM \"user\" AS \"a\"', ())"
      ]
     },
     "execution_count": 8,
     "metadata": {},
     "output_type": "execute_result"
    }
   ],
   "source": [
    "select = user.select(user.name)\n",
    "tuple(select)"
   ]
  },
  {
   "cell_type": "code",
   "execution_count": 2,
   "metadata": {},
   "outputs": [
    {
     "name": "stdout",
     "output_type": "stream",
     "text": [
      "Enter an integer:7\n",
      "*\n",
      "***\n",
      "*****\n",
      "*******\n",
      "*********\n",
      "***********\n",
      "*************\n"
     ]
    }
   ],
   "source": [
    "x= int(input('Enter an integer:'))\n",
    "\n",
    "for i in range(x):\n",
    "    print(''*(x-i-1)+'*'*(2*i+1))"
   ]
  },
  {
   "cell_type": "markdown",
   "metadata": {},
   "source": [
    "## Fibo series "
   ]
  },
  {
   "cell_type": "code",
   "execution_count": 4,
   "metadata": {},
   "outputs": [
    {
     "name": "stdout",
     "output_type": "stream",
     "text": [
      "Enter the number10\n",
      "[0, 1, 1, 2, 3, 5, 8, 13, 21, 34, 55]\n"
     ]
    }
   ],
   "source": [
    "def fibo(x):\n",
    "    fib=[0]\n",
    "    i=1\n",
    "    if x == 0:\n",
    "        fib = [0]\n",
    "    elif x==1:\n",
    "        fib = [1]\n",
    "    elif x == 2:\n",
    "        fib=[0,1]\n",
    "    else:\n",
    "        fib=[0,1]\n",
    "    while (i <= x-1):\n",
    "        fib.append(fib[i]+fib[i-1])\n",
    "        i=i+1\n",
    "    return(fib)\n",
    "        \n",
    "x = int(input('Enter the number'))\n",
    "print(fibo(x))"
   ]
  },
  {
   "cell_type": "code",
   "execution_count": 12,
   "metadata": {},
   "outputs": [
    {
     "name": "stdout",
     "output_type": "stream",
     "text": [
      "Enter the no of ele4\n",
      "Enter no.1\n",
      "Enter no.2\n",
      "Enter no.3\n",
      "Enter no.4\n",
      "[1, 2, 3, 4]\n",
      "Enter the target5\n",
      "[2, 1]\n"
     ]
    }
   ],
   "source": [
    "def twosum(lis,target):\n",
    "    temp = []\n",
    "    for i in range(0,len(lis)-1):\n",
    "        for j in range(1,len(lis)-1):\n",
    "            if (lis[i]+lis[j]) == target:\n",
    "                temp.append(j)\n",
    "                temp.append(i)\n",
    "                return(temp)\n",
    "    return(temp)   \n",
    "\n",
    "x = int(input('Enter the no of ele'))\n",
    "lis1 = []\n",
    "\n",
    "for i in range(0,x):\n",
    "    y=int(input('Enter no.'))\n",
    "    lis1.append(y)\n",
    "print(lis1)\n",
    "\n",
    "t = int(input('Enter the target'))\n",
    "\n",
    "print(twosum(lis1,t))\n",
    "    \n",
    "            \n",
    "    \n",
    "    \n",
    "    \n",
    "    \n",
    "    \n",
    "    \n",
    "    "
   ]
  },
  {
   "attachments": {
    "image.png": {
     "image/png": "[encoded data removed]"
    }
   },
   "cell_type": "markdown",
   "metadata": {},
   "source": [
    "# ![image.png](attachment:image.png)"
   ]
  },
  {
   "cell_type": "markdown",
   "metadata": {},
   "source": [
    "### Palindrome"
   ]
  },
  {
   "cell_type": "code",
   "execution_count": null,
   "metadata": {},
   "outputs": [],
   "source": [
    "astring = input('Enter a string')\n",
    "\n",
    "rstring = astring[::-1]\n",
    "\n",
    "if astring == rstring:\n",
    "    print('Palindrome')\n",
    "else:\n",
    "    print('Not a Palindrome')\n",
    "\n"
   ]
  },
  {
   "cell_type": "markdown",
   "metadata": {},
   "source": [
    "### Reversing number converting to string"
   ]
  },
  {
   "cell_type": "code",
   "execution_count": 18,
   "metadata": {},
   "outputs": [
    {
     "name": "stdout",
     "output_type": "stream",
     "text": [
      "Enter number456\n",
      "654\n"
     ]
    }
   ],
   "source": [
    "num = int(input('Enter number'))\n",
    "\n",
    "tostr = str((num))\n",
    "\n",
    "sign = False\n",
    "\n",
    "if (tostr[0])== '-':\n",
    "    sign = True\n",
    "    tostr = tostr[1::]\n",
    "\n",
    "rstring = tostr[::-1]\n",
    "\n",
    "if sign == True:\n",
    "    rstring = \"-\" + rstring\n",
    "\n",
    "print(int(rstring))\n"
   ]
  },
  {
   "cell_type": "markdown",
   "metadata": {},
   "source": [
    "### Palindrome Number"
   ]
  },
  {
   "cell_type": "code",
   "execution_count": 4,
   "metadata": {},
   "outputs": [
    {
     "name": "stdout",
     "output_type": "stream",
     "text": [
      "Enter number1234567\n",
      "7654321\n",
      "not a Palindrome\n"
     ]
    }
   ],
   "source": [
    "num = int(input('Enter number'))\n",
    "temp = num\n",
    "revs = 0\n",
    "ans = False\n",
    "\n",
    "while num>0:\n",
    "    i = num%10\n",
    "    revs = revs * 10 + i\n",
    "    num = int(num/10)\n",
    "    \n",
    "print(revs)\n",
    "\n",
    "if temp == revs:\n",
    "    ans = True\n",
    "    \n",
    "if ans == True:\n",
    "    print('Palindrome')\n",
    "else:\n",
    "    print('not a Palindrome')\n",
    "    \n"
   ]
  },
  {
   "cell_type": "markdown",
   "metadata": {},
   "source": [
    "### Adding 3 numbers to get 0"
   ]
  },
  {
   "cell_type": "code",
   "execution_count": 13,
   "metadata": {},
   "outputs": [
    {
     "name": "stdout",
     "output_type": "stream",
     "text": [
      "Enter number5\n",
      "Enter number0\n",
      "Enter number-1\n",
      "Enter number2\n",
      "Enter number-3\n",
      "Enter number1\n",
      "[0, -1, 2, -3, 1]\n",
      "0 -1 1\n",
      "2 -3 1\n",
      "Found\n"
     ]
    }
   ],
   "source": [
    "n = int(input('Enter number'))\n",
    "num = []\n",
    "found = False\n",
    "\n",
    "for nu in range(0,n):\n",
    "    temp = int(input('Enter number'))\n",
    "    num.append(temp)\n",
    "    \n",
    "print(num)\n",
    "\n",
    "for i in range(0,n-2):\n",
    "    for j in range(i+1, n-1):\n",
    "        for k in range(j+1, n):\n",
    "            if(num[i]+num[j]+num[k])==0:\n",
    "                found = True\n",
    "                print(num[i],num[j],num[k])\n",
    "\n",
    "if found == True:\n",
    "    print('Found')\n",
    "else:\n",
    "    print('Not Found')\n",
    "            \n"
   ]
  },
  {
   "cell_type": "markdown",
   "metadata": {},
   "source": [
    "###  Reverse string and add 'ay' to the end"
   ]
  },
  {
   "cell_type": "code",
   "execution_count": 19,
   "metadata": {},
   "outputs": [
    {
     "name": "stdout",
     "output_type": "stream",
     "text": [
      "['the', '2', 'quick', 'brown', 'foxes']\n",
      "ehtay\n",
      "2ay\n",
      "kciuqay\n",
      "nworbay\n",
      "sexofay\n"
     ]
    }
   ],
   "source": [
    "string = \"the 2 quick brown foxes\"\n",
    "    \n",
    "s = string.split()\n",
    "\n",
    "print(s)\n",
    "\n",
    "for s1 in s:\n",
    "    print((s1[::-1]) + \"ay\")\n",
    "    \n"
   ]
  },
  {
   "cell_type": "markdown",
   "metadata": {},
   "source": [
    "### Merge  2 strings"
   ]
  },
  {
   "cell_type": "code",
   "execution_count": 17,
   "metadata": {},
   "outputs": [
    {
     "name": "stdout",
     "output_type": "stream",
     "text": [
      "aXbcYdefZ\n"
     ]
    }
   ],
   "source": [
    "string1 = \"abcdef\"\n",
    "string2 = \"XYZ\"\n",
    "\n",
    "merglist =\"\"\n",
    "i=  0\n",
    "j = 1\n",
    "i2 =0\n",
    "\n",
    "while i<len(string1):\n",
    "    merglist = merglist+string1[i:i+j]+ (string2[i2])\n",
    "    i= i+j\n",
    "    j=j+1\n",
    "    i2=i2+1              \n",
    "                    \n",
    "print(merglist)"
   ]
  },
  {
   "cell_type": "code",
   "execution_count": 7,
   "metadata": {},
   "outputs": [
    {
     "name": "stdout",
     "output_type": "stream",
     "text": [
      "Enter a stringMADURAI12A\n",
      "a2\n"
     ]
    }
   ],
   "source": [
    "x = input(\"Enter a string\")\n",
    "\n",
    "len_x = len(x)\n",
    "\n",
    "rev_x = x[::-1]\n",
    "out_x = \"\"\n",
    "\n",
    "for i in range(0,2):\n",
    "    if((rev_x[i] >= 'a' and rev_x[i] <= 'z') or (rev_x[i] >= 'A' and rev_x[i] <= 'Z')):\n",
    "        out_x = out_x + rev_x[i].lower()\n",
    "    else:\n",
    "        out_x = out_x + rev_x[i]\n",
    "    \n",
    "print(out_x)\n",
    "    "
   ]
  },
  {
   "cell_type": "code",
   "execution_count": null,
   "metadata": {},
   "outputs": [],
   "source": []
  },
  {
   "cell_type": "code",
   "execution_count": 15,
   "metadata": {},
   "outputs": [
    {
     "name": "stdout",
     "output_type": "stream",
     "text": [
      "20\n",
      "30\n",
      "34°\n"
     ]
    }
   ],
   "source": [
    "import math\n",
    "\n",
    "ab = int(input())\n",
    "bc = int(input())\n",
    "tang = ab / bc\n",
    "rad = math.atan(tang)\n",
    "deg = int(round(math.degrees(rad), 0))\n",
    "\n",
    "print(str(deg)+ '°')"
   ]
  },
  {
   "cell_type": "code",
   "execution_count": 43,
   "metadata": {},
   "outputs": [
    {
     "name": "stdout",
     "output_type": "stream",
     "text": [
      "5\n",
      "1.0\n"
     ]
    },
    {
     "ename": "TypeError",
     "evalue": "unsupported operand type(s) for ** or pow(): 'NoneType' and 'int'",
     "output_type": "error",
     "traceback": [
      "\u001b[1;31m---------------------------------------------------------------------------\u001b[0m",
      "\u001b[1;31mTypeError\u001b[0m                                 Traceback (most recent call last)",
      "\u001b[1;32m<ipython-input-43-c085b2ed05a5>\u001b[0m in \u001b[0;36m<module>\u001b[1;34m()\u001b[0m\n\u001b[0;32m      1\u001b[0m \u001b[0mx\u001b[0m \u001b[1;33m=\u001b[0m \u001b[0mint\u001b[0m\u001b[1;33m(\u001b[0m\u001b[0minput\u001b[0m\u001b[1;33m(\u001b[0m\u001b[1;33m)\u001b[0m\u001b[1;33m)\u001b[0m\u001b[1;33m\u001b[0m\u001b[0m\n\u001b[0;32m      2\u001b[0m \u001b[1;32mfor\u001b[0m \u001b[0mi\u001b[0m \u001b[1;32min\u001b[0m \u001b[0mrange\u001b[0m\u001b[1;33m(\u001b[0m\u001b[1;36m1\u001b[0m\u001b[1;33m,\u001b[0m \u001b[0mx\u001b[0m\u001b[1;33m+\u001b[0m\u001b[1;36m1\u001b[0m\u001b[1;33m)\u001b[0m\u001b[1;33m:\u001b[0m\u001b[1;33m\u001b[0m\u001b[0m\n\u001b[1;32m----> 3\u001b[1;33m     \u001b[0mprint\u001b[0m \u001b[1;33m(\u001b[0m\u001b[1;33m(\u001b[0m\u001b[1;36m10\u001b[0m\u001b[1;33m**\u001b[0m\u001b[0mi\u001b[0m\u001b[1;33m-\u001b[0m\u001b[1;36m1\u001b[0m\u001b[1;33m)\u001b[0m\u001b[1;33m/\u001b[0m\u001b[1;36m9\u001b[0m\u001b[1;33m)\u001b[0m\u001b[1;33m**\u001b[0m\u001b[1;36m2\u001b[0m\u001b[1;33m\u001b[0m\u001b[0m\n\u001b[0m",
      "\u001b[1;31mTypeError\u001b[0m: unsupported operand type(s) for ** or pow(): 'NoneType' and 'int'"
     ]
    }
   ],
   "source": [
    "x = int(input())\n",
    "for i in range(1, x+1):\n",
    "    print ((10**i-1)/9)**2"
   ]
  },
  {
   "cell_type": "code",
   "execution_count": 60,
   "metadata": {},
   "outputs": [
    {
     "name": "stdout",
     "output_type": "stream",
     "text": [
      "code practice quiz geeks\n"
     ]
    }
   ],
   "source": [
    "x = \"geeks quiz practice code\"\n",
    "\n",
    "y= x.split()\n",
    "\n",
    "rev_str = y[::-1]\n",
    "out_str = ' '.join(rev_str)\n",
    "\n",
    "print(out_str)\n",
    "\n"
   ]
  },
  {
   "cell_type": "code",
   "execution_count": 67,
   "metadata": {},
   "outputs": [
    {
     "name": "stdout",
     "output_type": "stream",
     "text": [
      "Enter a stringgeeksforgeeks\n",
      "3\n",
      "geesforgeeks\n"
     ]
    }
   ],
   "source": [
    "test_str = input(\"Enter a string\")\n",
    "r_pos = int(input())\n",
    "\n",
    "out_str = \"\"\n",
    "\n",
    "for i in range(len(test_str)):\n",
    "    if i!=r_pos:\n",
    "        out_str = out_str + test_str[i]\n",
    "    \n",
    "print(out_str)\n",
    "    \n",
    "\n"
   ]
  },
  {
   "cell_type": "code",
   "execution_count": 63,
   "metadata": {},
   "outputs": [
    {
     "name": "stdout",
     "output_type": "stream",
     "text": [
      "15\n",
      "12\n"
     ]
    }
   ],
   "source": [
    "test_str = \"geeks   geeks16\"\n",
    "\n",
    "str_n = len(test_str)\n",
    "\n",
    "out_str = 0\n",
    "\n",
    "for i in test_str:\n",
    "    if i.isspace()==False:\n",
    "        out_str = out_str+1\n",
    "        \n",
    "print(str_n)\n",
    "print(out_str)\n",
    "   \n",
    "        \n",
    "\n",
    "\n"
   ]
  },
  {
   "cell_type": "code",
   "execution_count": 3,
   "metadata": {},
   "outputs": [
    {
     "name": "stdout",
     "output_type": "stream",
     "text": [
      "['welcome', 'to', 'geeksforgeeks']\n",
      "geeksforgeeks\n"
     ]
    }
   ],
   "source": [
    "##test_str = \"welcome to geeksforgeeks\"\n",
    "\n",
    "str_1 = test_str.split()\n",
    "\n",
    "print(str_1)\n",
    "\n",
    "out_str = str_1[0].title()\n",
    "\n",
    "\n",
    "\n"
   ]
  },
  {
   "cell_type": "code",
   "execution_count": 5,
   "metadata": {},
   "outputs": [
    {
     "name": "stdout",
     "output_type": "stream",
     "text": [
      "True\n",
      "True\n"
     ]
    }
   ],
   "source": [
    "test_str = \"welcome2ourcountry34\"\n",
    "\n",
    "out_str = \"false\"\n",
    "out_dig =  \"false\"\n",
    "\n",
    "for i in range(0,len(test_str)):\n",
    "    if test_str[i].isalpha() == True:\n",
    "        out_str = 'True'\n",
    "    if test_str[i].isdigit() == True:\n",
    "        out_dig = 'True'\n",
    "        \n",
    "print(out_str)\n",
    "print(out_dig)\n",
    "        \n"
   ]
  },
  {
   "cell_type": "code",
   "execution_count": 65,
   "metadata": {},
   "outputs": [
    {
     "name": "stdout",
     "output_type": "stream",
     "text": [
      "Not Accepted\n"
     ]
    }
   ],
   "source": [
    "string =  \"geeks\"\n",
    "string = string.lower()\n",
    "\n",
    "vowel = set(\"aeiou\")\n",
    "\n",
    "s = set({})\n",
    "\n",
    "for char in string:\n",
    "   \n",
    "    if char in vowel:\n",
    "        s.add(char)\n",
    "    else:\n",
    "        pass\n",
    "\n",
    "    \n",
    "if len(s)==len(vowel):\n",
    "    out = \"Accepted\"\n",
    "else:\n",
    "    out = \"Not Accepted\"\n",
    "\n",
    "print(out)"
   ]
  },
  {
   "cell_type": "code",
   "execution_count": 78,
   "metadata": {},
   "outputs": [
    {
     "name": "stdout",
     "output_type": "stream",
     "text": [
      "aabcddekll12@ bb22ll@55k\n",
      "{'k', 'l', '2', '@', 'b'}\n",
      "5\n"
     ]
    }
   ],
   "source": [
    "str1 = 'aabcddekll12@'\n",
    "str2 = 'bb22ll@55k'\n",
    "\n",
    "count = 0\n",
    "\n",
    "if len(str1) > len(str2):\n",
    "    outstr1 = str1\n",
    "    outstr2 = str2\n",
    "else:\n",
    "    outstr1 = str2\n",
    "    outstr2 = str1\n",
    "\n",
    "print(outstr1, outstr2)\n",
    "\n",
    "s = set({})\n",
    "\n",
    "for i in range(0,len(outstr2)):\n",
    "    if (outstr2[i] in outstr1) and outstr2[i] not in s:\n",
    "        count = count +1\n",
    "        s.add(outstr2[i])\n",
    "    else:\n",
    "        pass\n",
    "print(s)\n",
    "print(count)\n"
   ]
  },
  {
   "cell_type": "code",
   "execution_count": 27,
   "metadata": {},
   "outputs": [
    {
     "name": "stdout",
     "output_type": "stream",
     "text": [
      "3\n"
     ]
    }
   ],
   "source": [
    "str1 = \"Hello WOrld\"\n",
    "\n",
    "vowel = set('aeiouAEIOU')\n",
    "count = 0\n",
    "\n",
    "for char in str1:\n",
    "    if char in vowel:\n",
    "        count = count+1\n",
    "    else:\n",
    "        pass\n",
    "\n",
    "print(count)"
   ]
  },
  {
   "cell_type": "code",
   "execution_count": 31,
   "metadata": {},
   "outputs": [
    {
     "name": "stdout",
     "output_type": "stream",
     "text": [
      "{'G': 2, 'e': 4, 'k': 2, 's': 2, 'f': 1, 'o': 1, 'r': 1}\n",
      "f\n"
     ]
    }
   ],
   "source": [
    "test_str = \"GeeksforGeeks\"\n",
    "\n",
    "all_freq = {}\n",
    "\n",
    "for i in test_str:\n",
    "    if i in all_freq:\n",
    "        all_freq[i] += 1\n",
    "    else:\n",
    "        all_freq[i] = 1\n",
    "res = min(all_freq, key = all_freq.get) \n",
    "\n",
    "print(all_freq)\n",
    "print(res)     "
   ]
  },
  {
   "cell_type": "markdown",
   "metadata": {},
   "source": [
    "###  odd char in string"
   ]
  },
  {
   "cell_type": "code",
   "execution_count": 65,
   "metadata": {},
   "outputs": [
    {
     "name": "stdout",
     "output_type": "stream",
     "text": [
      "{'G': 2, 'e': 4, 'k': 2, 's': 2, 'f': 1, 'o': 1, 'r': 1}\n",
      "['f', 'o', 'r']\n"
     ]
    }
   ],
   "source": [
    "\n",
    "test_str = \"GeeksforGeeks\"\n",
    "\n",
    "max_fre = {}\n",
    "out_lis=[]\n",
    "\n",
    "for i in test_str:\n",
    "    if i in max_fre:\n",
    "        max_fre[i] = max_fre[i]+1\n",
    "        \n",
    "    else:\n",
    "        max_fre[i] = 1\n",
    "\n",
    "print(max_fre)\n",
    "        \n",
    "for k,j in max_fre.items():\n",
    "    if j%2 !=0:\n",
    "        out_lis.append(k)\n",
    "        \n",
    "    else:\n",
    "        pass\n",
    "\n",
    "print(out_lis)\n"
   ]
  },
  {
   "cell_type": "code",
   "execution_count": 87,
   "metadata": {},
   "outputs": [
    {
     "name": "stdout",
     "output_type": "stream",
     "text": [
      "{'g': 3, 'e': 7, 'k': 3, 's': 5, ' ': 6, 'f': 2, 'o': 2, 'r': 2, 'i': 1, 'b': 1, 't': 1}\n",
      "{'g': 3, 'e': 7, 'f': 2, 'b': 1}\n"
     ]
    }
   ],
   "source": [
    "test_list = \"geeks for geeks is best for geeks\"\n",
    "chr_list = ['e', 'b', 'g', 'f']\n",
    "\n",
    "max_fre = {}\n",
    "\n",
    "temp={}\n",
    "\n",
    "out_list={}\n",
    "\n",
    "for i in test_list:\n",
    "    if i in max_fre:\n",
    "        max_fre[i] = max_fre[i]+1    \n",
    "    else:\n",
    "        max_fre[i] = 1\n",
    "        \n",
    "print(max_fre)\n",
    "\n",
    "for key,val in max_fre.items():\n",
    "    if key in chr_list:\n",
    "        temp = {key:val}\n",
    "        out_list.update(temp)\n",
    "    else:\n",
    "        pass\n",
    "\n",
    "print(out_list)\n",
    "    "
   ]
  },
  {
   "cell_type": "code",
   "execution_count": 88,
   "metadata": {},
   "outputs": [
    {
     "name": "stdout",
     "output_type": "stream",
     "text": [
      "{'(', '*', '!', ':', '@', '{', '%', '&', '^', '|', '/', ']', '_', '?', '#', '<', ')', '\\\\', '$', '>', '~', '}'}\n"
     ]
    }
   ],
   "source": [
    "ch = set('@_!#$%^&*()<>?/\\|}{~:]')\n",
    "test_str = \"geeks$for\\geeks is best for geeks !\"\n",
    "\n"
   ]
  },
  {
   "cell_type": "code",
   "execution_count": 38,
   "metadata": {},
   "outputs": [
    {
     "name": "stdout",
     "output_type": "stream",
     "text": [
      "['hello', 'geeks', 'for', 'geeks', 'is', 'computer', 'science', 'portal']\n",
      "['hello', 'geeks', 'geeks', 'computer', 'science', 'portal']\n"
     ]
    }
   ],
   "source": [
    "in_str = \"hello geeks for geeks is computer science portal\" \n",
    "\n",
    "k = 4\n",
    "\n",
    "temp = in_str.split()\n",
    "out_str=[]\n",
    "\n",
    "print(temp)\n",
    "\n",
    "for i in temp:\n",
    "    if(len(i))> k:\n",
    "        out_str.append(i)\n",
    "    else:\n",
    "        pass\n",
    "print(out_str)\n"
   ]
  },
  {
   "cell_type": "markdown",
   "metadata": {},
   "source": [
    "### Removing the i th character"
   ]
  },
  {
   "cell_type": "code",
   "execution_count": 35,
   "metadata": {},
   "outputs": [
    {
     "name": "stdout",
     "output_type": "stream",
     "text": [
      "GeeksforGees\n"
     ]
    }
   ],
   "source": [
    "in_str = \"GeeksforGeeks\"\n",
    "i = 11\n",
    "n=len(in_str)\n",
    "out_str = \"\"\n",
    "\n",
    "for j in range(0,n):\n",
    "\n",
    "    if j != i:\n",
    "        out_str = out_str + in_str[j]\n",
    "        \n",
    "\n",
    " \n",
    "print(out_str)\n",
    "        \n",
    "    "
   ]
  },
  {
   "cell_type": "markdown",
   "metadata": {},
   "source": [
    "### Maximum abs difference"
   ]
  },
  {
   "cell_type": "code",
   "execution_count": 36,
   "metadata": {},
   "outputs": [
    {
     "name": "stdout",
     "output_type": "stream",
     "text": [
      "17\n"
     ]
    }
   ],
   "source": [
    "\n",
    "in_x = [1, 9, 2,-7, 10, 4, 3]\n",
    "\n",
    "n = len(in_x)\n",
    "        \n",
    "out_x = []\n",
    "\n",
    "for i in range(0,n-1):\n",
    "    for j in range(i+1,n):\n",
    "        k= abs(in_x[i]-in_x[j])\n",
    "        out_x.append(k)\n",
    "        \n",
    "print(max(out_x))\n",
    "\n"
   ]
  },
  {
   "cell_type": "markdown",
   "metadata": {},
   "source": [
    "### Program for array rotation"
   ]
  },
  {
   "cell_type": "code",
   "execution_count": 33,
   "metadata": {},
   "outputs": [
    {
     "name": "stdout",
     "output_type": "stream",
     "text": [
      "[1, 2, 3]\n",
      "[4, 5, 6, 7, 1, 2, 3]\n"
     ]
    }
   ],
   "source": [
    "arr = [1, 2, 3, 4, 5, 6, 7]\n",
    "\n",
    "d = 3\n",
    "\n",
    "n = len(arr)\n",
    "\n",
    "temp=[]\n",
    "temp1=[]\n",
    "i=0\n",
    "while (i < d):\n",
    "    temp.append(arr[i])\n",
    "    i = i+1\n",
    "\n",
    "print(temp)\n",
    "\n",
    "j = d\n",
    "while (j<n):\n",
    "    temp1.append(arr[j])\n",
    "    j = j+1\n",
    "\n",
    "output = temp1+temp\n",
    "\n",
    "print(output)"
   ]
  },
  {
   "cell_type": "code",
   "execution_count": 43,
   "metadata": {},
   "outputs": [
    {
     "name": "stdout",
     "output_type": "stream",
     "text": [
      "180\n"
     ]
    }
   ],
   "source": [
    "help_dict = {\n",
    "    'one': '1',\n",
    "    'two': '2',\n",
    "    'three': '3',\n",
    "    'four': '4',\n",
    "    'five': '5',\n",
    "    'six': '6',\n",
    "    'seven': '7',\n",
    "    'eight': '8',\n",
    "    'nine': '9',\n",
    "    'zero' : '0'\n",
    "}\n",
    "\n",
    "input_x = 'one eight zero'\n",
    "out_x = ''\n",
    "x  = input_x.split()\n",
    "\n",
    "for i in x:\n",
    "    out_x = out_x + help_dict[i]\n",
    "\n",
    "print(out_x)\n",
    "    "
   ]
  },
  {
   "cell_type": "code",
   "execution_count": 51,
   "metadata": {},
   "outputs": [
    {
     "name": "stdout",
     "output_type": "stream",
     "text": [
      "sforGeeksGeek\n"
     ]
    }
   ],
   "source": [
    "s = \"GeeksforGeeks\"\n",
    "d = 4\n",
    "\n",
    "temp = \"\"\n",
    "i=0\n",
    "n= len(s)\n",
    "temp1 =\"\"\n",
    "\n",
    "out_s =\"\"\n",
    "while (i<d):\n",
    "    temp=temp +s[i]\n",
    "    i = i+1\n",
    "j=d\n",
    "while(j<n):\n",
    "    temp1 = temp1+s[j]\n",
    "    j=j+1\n",
    "\n",
    "\n",
    "out_s = temp1+temp\n",
    "print(out_s)"
   ]
  },
  {
   "cell_type": "markdown",
   "metadata": {},
   "source": [
    "### Python to rotate a string"
   ]
  },
  {
   "cell_type": "code",
   "execution_count": 59,
   "metadata": {},
   "outputs": [
    {
     "name": "stdout",
     "output_type": "stream",
     "text": [
      "ertyuqw\n",
      "yuertyu\n"
     ]
    }
   ],
   "source": [
    "s = \"qwertyu\"\n",
    "d = 2\n",
    "\n",
    "temp = s[0:d]\n",
    "temp1 = s[d:]\n",
    "\n",
    "\n",
    "print(temp1+temp)\n",
    "\n",
    "temp2 = s[-d::]\n",
    "\n",
    "print(temp2+temp1)"
   ]
  },
  {
   "cell_type": "code",
   "execution_count": 62,
   "metadata": {},
   "outputs": [
    {
     "name": "stdout",
     "output_type": "stream",
     "text": [
      "[24, 35, 9, 56, 12]\n"
     ]
    }
   ],
   "source": [
    "Input = [12, 35, 9, 56, 24]\n",
    "\n",
    "n = len(Input)\n",
    "temp = Input[0]\n",
    "\n",
    "Input[0] = Input[n-1]\n",
    "\n",
    "Input[n-1] = temp\n",
    "\n",
    "print(Input)"
   ]
  },
  {
   "cell_type": "code",
   "execution_count": 77,
   "metadata": {},
   "outputs": [
    {
     "name": "stdout",
     "output_type": "stream",
     "text": [
      "[-4, -1, 0, 3, 10]\n"
     ]
    }
   ],
   "source": [
    "nums = [-4,-1,0,3,10]\n",
    "\n",
    "out =[]\n",
    "\n",
    "for i in range(0,len(nums)):\n",
    "    out.append(nums[i]*nums[i])\n",
    "\n"
   ]
  },
  {
   "cell_type": "code",
   "execution_count": 93,
   "metadata": {},
   "outputs": [
    {
     "name": "stdout",
     "output_type": "stream",
     "text": [
      "2 5\n",
      "[1, 5, 3, 4, 2]\n"
     ]
    }
   ],
   "source": [
    "List = [1, 2, 3, 4, 5]\n",
    "pos1 = 2 \n",
    "pos2 = 5\n",
    "\n",
    "x = List.pop(pos1-1)\n",
    "y = List.pop(pos2-2)\n",
    "\n",
    "print(x,y)\n",
    "\n",
    "List.insert(pos1-1,y)\n",
    "List.insert(pos2-1,x)\n",
    "\n",
    "print(List)"
   ]
  },
  {
   "cell_type": "code",
   "execution_count": 113,
   "metadata": {},
   "outputs": [
    {
     "name": "stdout",
     "output_type": "stream",
     "text": [
      "3\n"
     ]
    }
   ],
   "source": [
    "x = \"810\"\n",
    "\n",
    "total = 0\n",
    "n = [1,2,3,5,7]\n",
    "m = [0,4,6,9]\n",
    "l = [8]\n",
    "\n",
    "for i in x:\n",
    "    if (int(i) in n):\n",
    "        total = total+0\n",
    "        \n",
    "    elif (int(i) in m):\n",
    "        total = total+1\n",
    "    elif (int(i) in l):\n",
    "        total = total+2\n",
    "    else:\n",
    "          pass\n",
    "    \n",
    "print(total)\n",
    "    "
   ]
  },
  {
   "cell_type": "code",
   "execution_count": 115,
   "metadata": {},
   "outputs": [
    {
     "name": "stdout",
     "output_type": "stream",
     "text": [
      "10 3 7 9 4 17 8 0 16\n",
      "\n",
      "2  3 5 5 4 6 14 9 \n"
     ]
    }
   ],
   "source": [
    "f = open(\"C:/Users/Gayathri/Desktop/MS UNT/rawinput.txt\", \"r\")\n",
    "\n",
    "for x in f:\n",
    "    print(x)"
   ]
  },
  {
   "cell_type": "code",
   "execution_count": 147,
   "metadata": {},
   "outputs": [
    {
     "name": "stdout",
     "output_type": "stream",
     "text": [
      "this-is-a-string\n"
     ]
    }
   ],
   "source": [
    "line = \"this is a string\"\n",
    "l = line.split()\n",
    "n = len(l)\n",
    "m = []\n",
    "s= \"\"\n",
    "\n",
    "for i in range(0,n-1):\n",
    "    m.append(l[i]+'-')\n",
    "\n",
    "m.append(l[n-1])\n",
    "\n",
    "for j in range(0,n):\n",
    "    s = s + m[j]\n",
    "print(s)"
   ]
  },
  {
   "cell_type": "code",
   "execution_count": 22,
   "metadata": {},
   "outputs": [
    {
     "ename": "AttributeError",
     "evalue": "'dict' object has no attribute 'add'",
     "output_type": "error",
     "traceback": [
      "\u001b[1;31m---------------------------------------------------------------------------\u001b[0m",
      "\u001b[1;31mAttributeError\u001b[0m                            Traceback (most recent call last)",
      "\u001b[1;32m<ipython-input-22-4eb18079547a>\u001b[0m in \u001b[0;36m<module>\u001b[1;34m()\u001b[0m\n\u001b[0;32m      6\u001b[0m \u001b[1;33m\u001b[0m\u001b[0m\n\u001b[0;32m      7\u001b[0m \u001b[1;32mfor\u001b[0m \u001b[0mi\u001b[0m \u001b[1;32min\u001b[0m \u001b[0mrange\u001b[0m\u001b[1;33m(\u001b[0m\u001b[1;36m0\u001b[0m\u001b[1;33m,\u001b[0m\u001b[1;36m4\u001b[0m\u001b[1;33m)\u001b[0m\u001b[1;33m:\u001b[0m\u001b[1;33m\u001b[0m\u001b[0m\n\u001b[1;32m----> 8\u001b[1;33m     \u001b[0mr\u001b[0m\u001b[1;33m.\u001b[0m\u001b[0madd\u001b[0m\u001b[1;33m(\u001b[0m\u001b[0ms\u001b[0m\u001b[1;33m.\u001b[0m\u001b[0msplit\u001b[0m\u001b[1;33m(\u001b[0m\u001b[0mc\u001b[0m\u001b[1;33m)\u001b[0m\u001b[1;33m)\u001b[0m\u001b[1;33m\u001b[0m\u001b[0m\n\u001b[0m\u001b[0;32m      9\u001b[0m \u001b[1;33m\u001b[0m\u001b[0m\n\u001b[0;32m     10\u001b[0m \u001b[0mprint\u001b[0m\u001b[1;33m(\u001b[0m\u001b[0mr\u001b[0m\u001b[1;33m)\u001b[0m\u001b[1;33m\u001b[0m\u001b[0m\n",
      "\u001b[1;31mAttributeError\u001b[0m: 'dict' object has no attribute 'add'"
     ]
    }
   ],
   "source": [
    "s = \"ABCDCDC\"\n",
    "\n",
    "c = \"CDC\"\n",
    "r = {}\n",
    "n=len(s)\n",
    "\n",
    "for i in range(0,4):\n",
    "    r.add(s.split(c))\n",
    "\n",
    "print(r)"
   ]
  },
  {
   "cell_type": "code",
   "execution_count": null,
   "metadata": {},
   "outputs": [],
   "source": []
  }
 ],
 "metadata": {
  "kernelspec": {
   "display_name": "Python 3",
   "language": "python",
   "name": "python3"
  },
  "language_info": {
   "codemirror_mode": {
    "name": "ipython",
    "version": 3
   },
   "file_extension": ".py",
   "mimetype": "text/x-python",
   "name": "python",
   "nbconvert_exporter": "python",
   "pygments_lexer": "ipython3",
   "version": "3.7.0"
  }
 },
 "nbformat": 4,
 "nbformat_minor": 2
}
